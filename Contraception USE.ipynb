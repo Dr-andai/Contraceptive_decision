{
 "cells": [
  {
   "cell_type": "markdown",
   "id": "544b74a2",
   "metadata": {},
   "source": [
    "# Contraception choice\n",
    "Contraception method choice among women varies across the world. Among the 1.9 billion women of reproductive age (15-49 years) living in the world in 2019, 1.1 billion have a need for family planning. \n",
    "The experience, or awareness, of side effects and inconveniences of using specific contraceptive methods and their effectiveness at preventing pregnancy, play a role in the choice of the method used.  \n",
    "At the population level, several factors play a role in the heterogeneous distribution, including access to different contraceptive methods to the level of knowledge on contraceptives."
   ]
  },
  {
   "cell_type": "markdown",
   "id": "ed5f616b",
   "metadata": {},
   "source": [
    "## Objectives\n",
    "Due to the nature of ethics surrounding clinical data, there is limited access to specific data on factors influencing contraceptive use among women. The Contraceptive Method Choice Dataset compiles data collected from the 1987 National Indonesia Contraceptive Prevalence Survey. \n",
    "This article demonstrates how one would use Decision Trees as a data modeling method to predict a woman’s contraceptive usage based on socio-economic factors.\n",
    "- OneHotEncoding\n",
    "- Decision Trees"
   ]
  },
  {
   "cell_type": "markdown",
   "id": "35e14f29",
   "metadata": {},
   "source": [
    "#Loading and Setting up the data\n",
    "Import libraries from panda. Loaded the file as a .data file. Then reference the columns."
   ]
  },
  {
   "cell_type": "code",
   "execution_count": 53,
   "id": "39619120",
   "metadata": {},
   "outputs": [],
   "source": [
    "#set up\n",
    "import pandas as pd\n",
    "import numpy as np\n",
    "from sklearn.preprocessing import OneHotEncoder\n",
    "from sklearn.compose import make_column_transformer"
   ]
  },
  {
   "cell_type": "code",
   "execution_count": 65,
   "id": "68edf628",
   "metadata": {},
   "outputs": [
    {
     "data": {
      "text/html": [
       "<div>\n",
       "<style scoped>\n",
       "    .dataframe tbody tr th:only-of-type {\n",
       "        vertical-align: middle;\n",
       "    }\n",
       "\n",
       "    .dataframe tbody tr th {\n",
       "        vertical-align: top;\n",
       "    }\n",
       "\n",
       "    .dataframe thead th {\n",
       "        text-align: right;\n",
       "    }\n",
       "</style>\n",
       "<table border=\"1\" class=\"dataframe\">\n",
       "  <thead>\n",
       "    <tr style=\"text-align: right;\">\n",
       "      <th></th>\n",
       "      <th>24</th>\n",
       "      <th>2</th>\n",
       "      <th>3</th>\n",
       "      <th>3.1</th>\n",
       "      <th>1</th>\n",
       "      <th>1.1</th>\n",
       "      <th>2.1</th>\n",
       "      <th>3.2</th>\n",
       "      <th>0</th>\n",
       "      <th>1.2</th>\n",
       "    </tr>\n",
       "  </thead>\n",
       "  <tbody>\n",
       "    <tr>\n",
       "      <th>0</th>\n",
       "      <td>45</td>\n",
       "      <td>1</td>\n",
       "      <td>3</td>\n",
       "      <td>10</td>\n",
       "      <td>1</td>\n",
       "      <td>1</td>\n",
       "      <td>3</td>\n",
       "      <td>4</td>\n",
       "      <td>0</td>\n",
       "      <td>1</td>\n",
       "    </tr>\n",
       "    <tr>\n",
       "      <th>1</th>\n",
       "      <td>43</td>\n",
       "      <td>2</td>\n",
       "      <td>3</td>\n",
       "      <td>7</td>\n",
       "      <td>1</td>\n",
       "      <td>1</td>\n",
       "      <td>3</td>\n",
       "      <td>4</td>\n",
       "      <td>0</td>\n",
       "      <td>1</td>\n",
       "    </tr>\n",
       "    <tr>\n",
       "      <th>2</th>\n",
       "      <td>42</td>\n",
       "      <td>3</td>\n",
       "      <td>2</td>\n",
       "      <td>9</td>\n",
       "      <td>1</td>\n",
       "      <td>1</td>\n",
       "      <td>3</td>\n",
       "      <td>3</td>\n",
       "      <td>0</td>\n",
       "      <td>1</td>\n",
       "    </tr>\n",
       "    <tr>\n",
       "      <th>3</th>\n",
       "      <td>36</td>\n",
       "      <td>3</td>\n",
       "      <td>3</td>\n",
       "      <td>8</td>\n",
       "      <td>1</td>\n",
       "      <td>1</td>\n",
       "      <td>3</td>\n",
       "      <td>2</td>\n",
       "      <td>0</td>\n",
       "      <td>1</td>\n",
       "    </tr>\n",
       "    <tr>\n",
       "      <th>4</th>\n",
       "      <td>19</td>\n",
       "      <td>4</td>\n",
       "      <td>4</td>\n",
       "      <td>0</td>\n",
       "      <td>1</td>\n",
       "      <td>1</td>\n",
       "      <td>3</td>\n",
       "      <td>3</td>\n",
       "      <td>0</td>\n",
       "      <td>1</td>\n",
       "    </tr>\n",
       "  </tbody>\n",
       "</table>\n",
       "</div>"
      ],
      "text/plain": [
       "   24  2  3  3.1  1  1.1  2.1  3.2  0  1.2\n",
       "0  45  1  3   10  1    1    3    4  0    1\n",
       "1  43  2  3    7  1    1    3    4  0    1\n",
       "2  42  3  2    9  1    1    3    3  0    1\n",
       "3  36  3  3    8  1    1    3    2  0    1\n",
       "4  19  4  4    0  1    1    3    3  0    1"
      ]
     },
     "execution_count": 65,
     "metadata": {},
     "output_type": "execute_result"
    }
   ],
   "source": [
    "df = pd.read_csv('cmc.data')\n",
    "df.head()"
   ]
  },
  {
   "cell_type": "code",
   "execution_count": 67,
   "id": "7511376d",
   "metadata": {},
   "outputs": [
    {
     "data": {
      "text/plain": [
       "(1472, 10)"
      ]
     },
     "execution_count": 67,
     "metadata": {},
     "output_type": "execute_result"
    }
   ],
   "source": [
    "#Assigning column names to the dataset. \n",
    "df.columns=['age','wife_education','husband_education','no#_children',\n",
    "            'religion', 'working', 'husband_occupation','std_index','media_exposure',\n",
    "           'contraceptive_method']\n",
    "df.shape"
   ]
  },
  {
   "cell_type": "code",
   "execution_count": 68,
   "id": "cb70e5a2",
   "metadata": {},
   "outputs": [
    {
     "data": {
      "text/plain": [
       "(1472, 10)"
      ]
     },
     "execution_count": 68,
     "metadata": {},
     "output_type": "execute_result"
    }
   ],
   "source": [
    "#Mapping values to the coded dataset, and storing in a new dataframe\n",
    "wife_education_mapping ={1:\"low\", 2:\"medium-low\", 3:\"medium-high\", 4:\"high\"}\n",
    "husband_education_mapping = {1:\"low\", 2:\"medium-low\", 3:\"medium-high\", 4:\"high\"}\n",
    "religion_mapping ={0:\"Non-Islam\", 1:\"Islam\"}\n",
    "working_mapping={0:\"Yes\", 1:\"No\"}\n",
    "husband_occupation_mapping ={1:\"low\", 2:\"medium-low\", 3:\"medium-high\", 4:\"high\"}\n",
    "std_index_mapping ={1:\"low\", 2:\"medium-low\", 3:\"medium-high\", 4:\"high\"}\n",
    "media_exposure_mapping = {0:\"Good\", 1:\"Not good\"}\n",
    "#contraceptive_method_mapping ={1:\"No use\", 2:\"Long term\", 3:\"Short term\"}\n",
    "\n",
    "df['wife_education_label'] = df['wife_education'].map(wife_education_mapping)\n",
    "df['husband_education_label'] = df['husband_education'].map(husband_education_mapping)\n",
    "df['religion_label'] = df['religion'].map(religion_mapping)\n",
    "df['working_label'] = df['working'].map(working_mapping)\n",
    "df['husband_occupation_label'] = df['husband_occupation'].map(husband_occupation_mapping)\n",
    "df['std_index_label'] = df['std_index'].map(std_index_mapping)\n",
    "df['media_exposure_label'] = df['media_exposure'].map(media_exposure_mapping)\n",
    "\n",
    "new_df = df[['age','wife_education_label','husband_education_label','no#_children','religion_label','working_label',\n",
    "             'husband_occupation_label','std_index_label','media_exposure_label','contraceptive_method']]\n",
    "new_df.shape"
   ]
  },
  {
   "cell_type": "code",
   "execution_count": 57,
   "id": "ad1bac8c",
   "metadata": {},
   "outputs": [
    {
     "data": {
      "text/plain": [
       "age                          int64\n",
       "wife_education_label        object\n",
       "husband_education_label     object\n",
       "no#_children                 int64\n",
       "religion_label              object\n",
       "working_label               object\n",
       "husband_occupation_label    object\n",
       "std_index_label             object\n",
       "media_exposure_label        object\n",
       "contraceptive_method         int64\n",
       "dtype: object"
      ]
     },
     "execution_count": 57,
     "metadata": {},
     "output_type": "execute_result"
    }
   ],
   "source": [
    "##Viewing the data types\n",
    "new_df.dtypes"
   ]
  },
  {
   "cell_type": "code",
   "execution_count": 58,
   "id": "20a0b8b0",
   "metadata": {},
   "outputs": [
    {
     "data": {
      "text/plain": [
       "onehotencoder__x0_high           float64\n",
       "onehotencoder__x0_low            float64\n",
       "onehotencoder__x0_medium-high    float64\n",
       "onehotencoder__x0_medium-low     float64\n",
       "onehotencoder__x1_high           float64\n",
       "onehotencoder__x1_low            float64\n",
       "onehotencoder__x1_medium-high    float64\n",
       "onehotencoder__x1_medium-low     float64\n",
       "onehotencoder__x2_Islam          float64\n",
       "onehotencoder__x2_Non-Islam      float64\n",
       "onehotencoder__x3_No             float64\n",
       "onehotencoder__x3_Yes            float64\n",
       "onehotencoder__x4_high           float64\n",
       "onehotencoder__x4_low            float64\n",
       "onehotencoder__x4_medium-high    float64\n",
       "onehotencoder__x4_medium-low     float64\n",
       "onehotencoder__x5_high           float64\n",
       "onehotencoder__x5_low            float64\n",
       "onehotencoder__x5_medium-high    float64\n",
       "onehotencoder__x5_medium-low     float64\n",
       "onehotencoder__x6_Good           float64\n",
       "onehotencoder__x6_Not good       float64\n",
       "age                              float64\n",
       "no#_children                     float64\n",
       "contraceptive_method             float64\n",
       "dtype: object"
      ]
     },
     "execution_count": 58,
     "metadata": {},
     "output_type": "execute_result"
    }
   ],
   "source": [
    "#Data Transformation\n",
    "##OneHotEncode the dataset\n",
    "transformer = make_column_transformer((OneHotEncoder(),['wife_education_label','husband_education_label','religion_label','working_label',\n",
    "                      'husband_occupation_label','std_index_label','media_exposure_label']), remainder = 'passthrough')\n",
    "\n",
    "transformed = transformer.fit_transform(new_df)\n",
    "\n",
    "transformed_new_df = pd.DataFrame(transformed, columns = transformer.get_feature_names())\n",
    "\n",
    "#print(transformed_new_df.head())\n",
    "transformed_new_df.dtypes"
   ]
  },
  {
   "cell_type": "code",
   "execution_count": 59,
   "id": "9b27bb3b",
   "metadata": {
    "scrolled": true
   },
   "outputs": [
    {
     "data": {
      "text/plain": [
       "onehotencoder__x0_high            float64\n",
       "onehotencoder__x0_low             float64\n",
       "onehotencoder__x0_medium-high     float64\n",
       "onehotencoder__x0_medium-low      float64\n",
       "onehotencoder__x1_high            float64\n",
       "onehotencoder__x1_low             float64\n",
       "onehotencoder__x1_medium-high     float64\n",
       "onehotencoder__x1_medium-low      float64\n",
       "onehotencoder__x2_Islam           float64\n",
       "onehotencoder__x2_Non-Islam       float64\n",
       "contraceptive_method_label       category\n",
       "onehotencoder__x3_No              float64\n",
       "onehotencoder__x3_Yes             float64\n",
       "onehotencoder__x4_high            float64\n",
       "onehotencoder__x4_low             float64\n",
       "onehotencoder__x4_medium-high     float64\n",
       "onehotencoder__x4_medium-low      float64\n",
       "onehotencoder__x5_high            float64\n",
       "onehotencoder__x5_low             float64\n",
       "onehotencoder__x5_medium-high     float64\n",
       "onehotencoder__x5_medium-low      float64\n",
       "onehotencoder__x6_Good            float64\n",
       "onehotencoder__x6_Not good        float64\n",
       "age                                 int32\n",
       "no#_children                        int32\n",
       "dtype: object"
      ]
     },
     "execution_count": 59,
     "metadata": {},
     "output_type": "execute_result"
    }
   ],
   "source": [
    "## Convert contraceptive method from a float to a category data type for classification purpose\n",
    "s= transformed_new_df.loc[:,('contraceptive_method')].astype('category')\n",
    "transformed_new_df.insert(len(new_df.columns),'contraceptive_method_label',s.values)\n",
    "transformed_new_df = transformed_new_df.drop('contraceptive_method', axis=1)\n",
    "## Convert age, no#_children to interger data type\n",
    "transformed_new_df[['age','no#_children']]= transformed_new_df[['age','no#_children']].astype('int')\n",
    "transformed_new_df.dtypes"
   ]
  },
  {
   "cell_type": "code",
   "execution_count": 60,
   "id": "d68a02a2",
   "metadata": {},
   "outputs": [],
   "source": [
    "#Implementing Decision Trees\n",
    "#Prepairing data for modeling\n",
    "inputs = transformed_new_df.drop('contraceptive_method_label', axis='columns')\n",
    "target = transformed_new_df['contraceptive_method_label']\n",
    "\n",
    "from sklearn.model_selection import train_test_split\n",
    "X = inputs\n",
    "y = target\n",
    "X_train, X_test, y_train, y_test = train_test_split(X,y, test_size=0.33)\n"
   ]
  },
  {
   "cell_type": "code",
   "execution_count": 61,
   "id": "16593a41",
   "metadata": {},
   "outputs": [],
   "source": [
    "#Decision Tree Classifier\n",
    "from sklearn.tree import DecisionTreeClassifier\n",
    "clf = DecisionTreeClassifier()\n",
    "clf = clf.fit(X_train, y_train)"
   ]
  },
  {
   "cell_type": "code",
   "execution_count": 62,
   "id": "8b7fa582",
   "metadata": {},
   "outputs": [],
   "source": [
    "predictions = clf.predict(X_test)\n"
   ]
  },
  {
   "cell_type": "code",
   "execution_count": 63,
   "id": "9080e959",
   "metadata": {},
   "outputs": [
    {
     "name": "stdout",
     "output_type": "stream",
     "text": [
      "Training accuracy of the model was at: 0.9665314401622718\n",
      "Validation accuracy of the model was at: 0.5061728395061729\n"
     ]
    }
   ],
   "source": [
    "#Prediction Test of the Decision Tree Classifier on the Test data set\n",
    "from sklearn.metrics import accuracy_score\n",
    "from sklearn import tree\n",
    "a = accuracy_score(clf.predict(X_train),y_train)\n",
    "b = accuracy_score(y_test, predictions)\n",
    "print(\"Training accuracy of the model was at:\",a)\n",
    "print(\"Validation accuracy of the model was at:\",b)\n",
    "#print(\"This\", accuracy_score)\n",
    "#print(\"That\", accuracy_vscore)"
   ]
  },
  {
   "cell_type": "markdown",
   "id": "c2aaf268",
   "metadata": {},
   "source": [
    "## In conclusion\n",
    "One-hot-encoding is a powerful technique to treat categorical data, but it can lead to increased dimensionality, sparsity, and overfitting. It is essential to use it cautiously. Our decision tree model had a low accuracy score of 50.62%, while the training score was high at 96.65%. Overfitting occurs when a model fits too closely to the training data and may become less accurate when encountering new data or predicting future outcomes. Methods such as pruning were not applied in this case. Many factors must be considered when faced with a task, such as predicting contraceptive methods. More variables must be factored in, and the correct context must be considered. "
   ]
  }
 ],
 "metadata": {
  "kernelspec": {
   "display_name": "Python 3",
   "language": "python",
   "name": "python3"
  },
  "language_info": {
   "codemirror_mode": {
    "name": "ipython",
    "version": 3
   },
   "file_extension": ".py",
   "mimetype": "text/x-python",
   "name": "python",
   "nbconvert_exporter": "python",
   "pygments_lexer": "ipython3",
   "version": "3.8.8"
  }
 },
 "nbformat": 4,
 "nbformat_minor": 5
}
